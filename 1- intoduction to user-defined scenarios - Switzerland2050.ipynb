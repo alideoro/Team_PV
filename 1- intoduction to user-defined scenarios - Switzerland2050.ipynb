{
 "cells": [
  {
   "cell_type": "markdown",
   "id": "127fded4-377c-48c9-8d30-33852dfbd0ab",
   "metadata": {},
   "source": [
    "# Use examples of [premise](https://github.com/romainsacchi/premise) with user-generated scenarios\n",
    "\n",
    "Author: [romainsacchi](https://github.com/romainsacchi)\n",
    "\n",
    "This notebook shows examples on how to use `premise` to adapt the life cycle inventory database [ecoinvent](https://www.ecoinvent.org/) for prospective environmental impact assessment, using **user-generated scenarios**.\n",
    "\n",
    "User-generated scenario are scenarios built by the premise users community. They can be used on their own\n",
    "or together with a global IAM scenario.\n",
    "Public community scenarios are listed under the repository [Premise community scenario](https://github.com/premise-community-scenarios)."
   ]
  },
  {
   "cell_type": "markdown",
   "id": "a7694ff4-917d-4027-afe1-d63bf8d5b387",
   "metadata": {},
   "source": [
    "User-generated scenarios are \"packaged\" into [data packages](https://specs.frictionlessdata.io/data-package/)."
   ]
  },
  {
   "cell_type": "markdown",
   "id": "f2c96741-8a52-4d5d-b2bf-fc091ad97d43",
   "metadata": {},
   "source": [
    "Data packages ensure that the data used comes with all necessary metadata, resources (scenario data, inventories, etc.), and that the data is formatted in a correct way."
   ]
  },
  {
   "cell_type": "markdown",
   "id": "a9e4e85b-22eb-4a7e-928a-2ef7b5dd2814",
   "metadata": {},
   "source": [
    "To fetch a data packge, you can use the `datapackage` library.\n",
    "For exmaple, let's fetch the user-generated scenario about [Switzerland's future energy supply](https://github.com/premise-community-scenarios/energy-perspective-2050-switzerland)."
   ]
  },
  {
   "cell_type": "code",
   "execution_count": 1,
   "id": "5242839d-9061-44bd-bad6-82d36a2a3a1f",
   "metadata": {},
   "outputs": [
    {
     "name": "stdout",
     "output_type": "stream",
     "text": [
      "Cache folder cleared!\n"
     ]
    }
   ],
   "source": [
    "from premise import *\n",
    "\n",
    "clear_cache()"
   ]
  },
  {
   "cell_type": "code",
   "execution_count": 2,
   "id": "90c8da09-12b1-4c35-bb36-550be70a738e",
   "metadata": {},
   "outputs": [],
   "source": [
    "from datapackage import Package"
   ]
  },
  {
   "cell_type": "code",
   "execution_count": 3,
   "id": "bda9c910-140b-4e65-9656-156158968c25",
   "metadata": {},
   "outputs": [],
   "source": [
    "# URL pointing to the raw datapackage.json file of the scenario (on github or computer)\n",
    "#url = r\"https://raw.githubusercontent.com/alideoro/Team_PV/main/energy-perspective-2050-switzerland-main2/datapackage.json\"\n",
    "url = r\"https://raw.githubusercontent.com/premise-community-scenarios/energy-perspective-2050-switzerland/main/datapackage.json\"\n",
    "\n",
    "switzerland_2050 = Package(url)"
   ]
  },
  {
   "cell_type": "markdown",
   "id": "b615c6c4-6309-4b55-a375-f95f3446b8f5",
   "metadata": {},
   "source": [
    "The datapackage has 3 resources: scenario data, inventories and a configuration file."
   ]
  },
  {
   "cell_type": "code",
   "execution_count": 4,
   "id": "b88cc08c-c6c2-4890-9c39-c52f51d5b98e",
   "metadata": {},
   "outputs": [
    {
     "name": "stdout",
     "output_type": "stream",
     "text": [
      "scenario_data\n",
      "inventories\n",
      "config\n"
     ]
    }
   ],
   "source": [
    "for resource in switzerland_2050.resources:\n",
    "    print(resource.name)"
   ]
  },
  {
   "cell_type": "markdown",
   "id": "d4e664d6-19a2-4ed2-aeec-38bfa97dce8f",
   "metadata": {},
   "source": [
    "or"
   ]
  },
  {
   "cell_type": "code",
   "execution_count": 5,
   "id": "a02895f5-adb8-4b7c-a5a1-a49ed936f140",
   "metadata": {},
   "outputs": [
    {
     "data": {
      "text/plain": [
       "['scenario_data', 'inventories', 'config']"
      ]
     },
     "execution_count": 5,
     "metadata": {},
     "output_type": "execute_result"
    }
   ],
   "source": [
    "switzerland_2050.resource_names"
   ]
  },
  {
   "cell_type": "markdown",
   "id": "676f4a89-f709-46c1-8bc6-19f174ddff2f",
   "metadata": {},
   "source": [
    "And you can directly read them (or look the resources up directly from the repo):"
   ]
  },
  {
   "cell_type": "code",
   "execution_count": 6,
   "id": "c8814dca-0f42-4fb9-9169-025f1860f4b4",
   "metadata": {},
   "outputs": [],
   "source": [
    "import pandas as pd"
   ]
  },
  {
   "cell_type": "code",
   "execution_count": 7,
   "id": "4ab51f60-2fbb-48ec-a70d-2348aa0c64b4",
   "metadata": {},
   "outputs": [],
   "source": [
    "#data.raw_read()\n",
    "\n",
    "data2 = switzerland_2050.get_resource(\"scenario_data\").read()\n",
    "df=pd.DataFrame(data2)"
   ]
  },
  {
   "cell_type": "code",
   "execution_count": 8,
   "id": "21ff3b4f-3bcc-4e35-8a11-87de7c447ef2",
   "metadata": {},
   "outputs": [
    {
     "data": {
      "text/plain": [
       "array(['Production|Electricity|Run-of-river hydro',\n",
       "       'Production|Electricity|Reservoir',\n",
       "       'Production|Electricity|Nuclear|Boiling water reactor',\n",
       "       'Production|Electricity|Nuclear|Pressure water reactor',\n",
       "       'Production|Electricity|Conventional|Waste-to-Energy',\n",
       "       'Production|Electricity|Conventional|Other',\n",
       "       'Production|Electricity|Renewable|Photovoltaic',\n",
       "       'Production|Electricity|Renewable|Wind turbines|Onshore',\n",
       "       'Production|Electricity|Renewable|Geothermal',\n",
       "       'Production|Electricity|Renewable|Biomass',\n",
       "       'Production|Electricity|Renewable|Biogas',\n",
       "       'Production|Electricity|Medium to high',\n",
       "       'Production|Electricity|Low to medium',\n",
       "       'Production|Electricity|Import',\n",
       "       'Transmission losses|Electricity|Medium to high',\n",
       "       'Distribution losses|Electricity|Low to medium',\n",
       "       'Production|Liquid fuel|Diesel|Diesel',\n",
       "       'Production|Liquid fuel|Diesel|Biodiesel',\n",
       "       'Production|Liquid fuel|Diesel|Synthetic diesel',\n",
       "       'Production|Liquid fuel|Petrol|Petrol',\n",
       "       'Production|Liquid fuel|Petrol|Bioethanol',\n",
       "       'Production|Liquid fuel|Petrol|Synthetic petrol',\n",
       "       'Production|Gaseous fuel|Hydrogen|Domestic|Electrolysis',\n",
       "       'Production|Gaseous fuel|Hydrogen|Neighboring countries|Electrolysis',\n",
       "       'Efficiency|Gaseous fuel|Hydrogen|Domestic|Electrolysis',\n",
       "       'Efficiency|Gaseous fuel|Hydrogen|Neighboring countries|Electrolysis',\n",
       "       'Production|Gaseous fuel|Hydrogen|Gaseous to liquid',\n",
       "       'Distribution losses|Gaseous fuel|Hydrogen|Liquefaction',\n",
       "       'Distribution losses|Gaseous fuel|Hydrogen|Evaporation',\n",
       "       'Distribution losses|Gaseous fuel|Hydrogen|Leakage',\n",
       "       'Cushion gas|Gaseous fuel|Hydrogen|Geological storage',\n",
       "       'Efficiency|Gaseous fuel|Hydrogen|Liquefaction',\n",
       "       'Production|Liquid fuel|DAC', 'Production|Gaseous fuel|CNG',\n",
       "       'Production|Gaseous fuel|LNG',\n",
       "       'Production|Gaseous fuel|Biomethane',\n",
       "       'Production|Gaseous fuel|Synthetic gas',\n",
       "       'Production|Gaseous fuel|Low to high',\n",
       "       'Distribution losses|Gaseous fuel|Low to high',\n",
       "       'Production|Electricity|Neighbor countries|Reservoir',\n",
       "       'Production|Electricity|Neighbor countries|Nuclear',\n",
       "       'Production|Electricity|Neighbor countries|Coal',\n",
       "       'Production|Electricity|Neighbor countries|Natural gas',\n",
       "       'Production|Electricity|Neighbor countries|Conventional|Waste-to-Energy',\n",
       "       'Production|Electricity|Neighbor countries|Renewable|Photovoltaic',\n",
       "       'Production|Electricity|Neighbor countries|Renewable|Wind turbines|Onshore',\n",
       "       'Production|Electricity|Neighbor countries|Renewable|Wind turbines|Offshore',\n",
       "       'Production|Electricity|Neighbor countries|Renewable|Biomass',\n",
       "       'Production|Electricity|Neighbor countries|Import'], dtype=object)"
      ]
     },
     "execution_count": 8,
     "metadata": {},
     "output_type": "execute_result"
    }
   ],
   "source": [
    "df.loc[:, 4].unique()"
   ]
  },
  {
   "cell_type": "markdown",
   "id": "952e8dfe-71ee-4649-80ac-a6e3934cfa1f",
   "metadata": {},
   "source": [
    "The datapackage can also be locally stored (i.e., on your computer), in which case you only\n",
    "need to provide the filepath to the `datapackage.json` file."
   ]
  },
  {
   "cell_type": "markdown",
   "id": "09760b15-e129-46b8-85d2-80aefa5c2a0c",
   "metadata": {},
   "source": [
    "Once the datapackage is loaded, you just need to pass it (in a list) to the `NewDatabase` instance of `premise`."
   ]
  },
  {
   "cell_type": "code",
   "execution_count": 9,
   "id": "f15e00e7-4086-4312-8090-ad432ea368d6",
   "metadata": {},
   "outputs": [
    {
     "data": {
      "text/plain": [
       "Databases dictionary with 8 object(s):\n",
       "\tFinal_IAM_User_30\n",
       "\tFinal_IAM_User_40\n",
       "\tFinal_IAM_User_50\n",
       "\tTeamPV\n",
       "\tTeamPV5\n",
       "\tTeamPV_with_IAM_elec\n",
       "\tbiosphere3\n",
       "\tei 3.8 cutoff"
      ]
     },
     "execution_count": 9,
     "metadata": {},
     "output_type": "execute_result"
    }
   ],
   "source": [
    "from premise import *\n",
    "import bw2data\n",
    "bw2data.projects.set_current(\"ei38-teaching\")\n",
    "bw2data.databases"
   ]
  },
  {
   "cell_type": "code",
   "execution_count": 22,
   "id": "b0408c8e-ce9e-4d6c-8e4b-a6a0db1ff384",
   "metadata": {},
   "outputs": [
    {
     "name": "stdout",
     "output_type": "stream",
     "text": [
      "premise v.(1, 3, 6)\n",
      "+------------------------------------------------------------------+\n",
      "| Warning                                                          |\n",
      "+------------------------------------------------------------------+\n",
      "| Because some of the scenarios can yield LCI databases            |\n",
      "| containing net negative emission technologies (NET),             |\n",
      "| it is advised to account for biogenic CO2 flows when calculating |\n",
      "| Global Warming potential indicators.                             |\n",
      "| `premise_gwp` provides characterization factors for such flows.  |\n",
      "| It also provides factors for hydrogen emissions to air.          |\n",
      "|                                                                  |\n",
      "| Within your bw2 project:                                         |\n",
      "| from premise_gwp import add_premise_gwp                          |\n",
      "| add_premise_gwp()                                                |\n",
      "+------------------------------------------------------------------+\n",
      "+--------------------------------+----------------------------------+\n",
      "| Utils functions                | Description                      |\n",
      "+--------------------------------+----------------------------------+\n",
      "| clear_cache()                  | Clears the cache folder. Useful  |\n",
      "|                                | when updating `premise`or        |\n",
      "|                                | encountering issues with         |\n",
      "|                                | inventories.                     |\n",
      "+--------------------------------+----------------------------------+\n",
      "| get_regions_definition(model)  | Retrieves the list of countries  |\n",
      "|                                | for each region of the model.    |\n",
      "+--------------------------------+----------------------------------+\n",
      "| ndb.NewDatabase(...)           | Generates a summary of the most  |\n",
      "| ndb.generate_scenario_report() | important scenarios' variables.  |\n",
      "+--------------------------------+----------------------------------+\n",
      "Keep uncertainty data?\n",
      "NewDatabase(..., keep_uncertainty_data=True)\n",
      "\n",
      "Hide these messages?\n",
      "NewDatabase(..., quiet=True)\n",
      "\n",
      "//////////////////// EXTRACTING SOURCE DATABASE ////////////////////\n",
      "Done!\n",
      "\n",
      "////////////////// IMPORTING DEFAULT INVENTORIES ///////////////////\n",
      "Done!\n",
      "\n",
      "/////////////////////// EXTRACTING IAM DATA ////////////////////////\n",
      "Done!\n"
     ]
    }
   ],
   "source": [
    "scenarios = [\n",
    "    {\"model\": \"image\", \"pathway\":\"SSP2-Base\", \"year\": 2030},\n",
    "    {\"model\": \"image\", \"pathway\":\"SSP2-Base\", \"year\": 2040},             # multiple scenarios can be specified\n",
    "    {\"model\": \"image\", \"pathway\":\"SSP2-Base\", \"year\": 2050},\n",
    "]\n",
    "\n",
    "ndb2 = NewDatabase(\n",
    "        scenarios = scenarios,        \n",
    "        source_db=\"ei 3.8 cutoff\",\n",
    "        source_version=\"3.8\",\n",
    "        key='tUePmX_S5B8ieZkkM7WUU2CnO8SmShwmAeWK9x2rTFo=',\n",
    "        external_scenarios=[\n",
    "            switzerland_2050,\n",
    "        ]\n",
    ")\n"
   ]
  },
  {
   "cell_type": "markdown",
   "id": "560b5cc3-11c8-4499-b553-d79ec5203e3e",
   "metadata": {},
   "source": [
    "To integrate the projections of the user-generated scenario, call `update_external_scenario()`."
   ]
  },
  {
   "cell_type": "code",
   "execution_count": null,
   "id": "51dd0dd9-86bf-42f3-bded-d3da98178b7e",
   "metadata": {},
   "outputs": [
    {
     "name": "stdout",
     "output_type": "stream",
     "text": [
      "\n",
      "/////////////////////////// ELECTRICITY ////////////////////////////\n",
      "Update natural gas extraction datasets.\n",
      "Update efficiency of solar PV.\n",
      "Log of changes in photovoltaics efficiencies saved in /opt/tljh/user/envs/bw/lib/python3.10/site-packages/premise/data/logs\n",
      "Create biomass markets.\n",
      "Empty old electricity datasets\n",
      "Create high voltage markets.\n",
      "Create medium voltage markets.\n",
      "Create low voltage markets.\n",
      "Log of deleted electricity markets saved in /opt/tljh/user/envs/bw/lib/python3.10/site-packages/premise/data/logs\n",
      "Log of created electricity markets saved in /opt/tljh/user/envs/bw/lib/python3.10/site-packages/premise/data/logs\n",
      "Done!\n",
      "Adjust efficiency of power plants...\n",
      "Log of changes in power plants efficiencies saved in /opt/tljh/user/envs/bw/lib/python3.10/site-packages/premise/data/logs\n",
      "Rescale inventories and emissions for Biomass CHP CCS\n",
      "Rescale inventories and emissions for Oil CC CCS\n",
      "Rescale inventories and emissions for Oil CHP\n",
      "Rescale inventories and emissions for Biomass IGCC CCS\n",
      "Rescale inventories and emissions for Biomass ST\n",
      "Rescale inventories and emissions for Oil ST\n",
      "Rescale inventories and emissions for Coal CHP\n",
      "Rescale inventories and emissions for Gas CC CCS\n",
      "Rescale inventories and emissions for Nuclear\n",
      "Rescale inventories and emissions for Gas OC\n",
      "Rescale inventories and emissions for Coal PC\n",
      "Rescale inventories and emissions for Biomass IGCC\n",
      "Rescale inventories and emissions for Gas CHP\n",
      "Rescale inventories and emissions for Coal IGCC CCS\n",
      "Rescale inventories and emissions for Biomass CHP\n",
      "Rescale inventories and emissions for Oil CC\n",
      "Rescale inventories and emissions for Oil CHP CCS\n",
      "Rescale inventories and emissions for Coal IGCC\n",
      "Rescale inventories and emissions for Coal CHP CCS\n",
      "Rescale inventories and emissions for Gas CC\n",
      "Rescale inventories and emissions for Gas CHP CCS\n",
      "Update natural gas extraction datasets.\n",
      "Update efficiency of solar PV.\n",
      "Log of changes in photovoltaics efficiencies saved in /opt/tljh/user/envs/bw/lib/python3.10/site-packages/premise/data/logs\n",
      "Create biomass markets.\n",
      "Empty old electricity datasets\n",
      "Create high voltage markets.\n"
     ]
    }
   ],
   "source": [
    "ndb2.update_electricity()\n",
    "ndb2.update_external_scenario()"
   ]
  },
  {
   "cell_type": "markdown",
   "id": "37d05dd0-e5a1-4ff5-a91c-8c9c342da322",
   "metadata": {},
   "source": [
    "You can combine the user-generated scenario with any, all or none of the projections for the IAM model.\n",
    "For example, here with the electricity projections of the IMAGE SSP2-Base scenario:"
   ]
  },
  {
   "cell_type": "code",
   "execution_count": 1,
   "id": "091450c1-212e-41e9-9390-8ecfdb32f4fa",
   "metadata": {},
   "outputs": [
    {
     "ename": "NameError",
     "evalue": "name 'ndb' is not defined",
     "output_type": "error",
     "traceback": [
      "\u001b[0;31m---------------------------------------------------------------------------\u001b[0m",
      "\u001b[0;31mNameError\u001b[0m                                 Traceback (most recent call last)",
      "Cell \u001b[0;32mIn [1], line 1\u001b[0m\n\u001b[0;32m----> 1\u001b[0m temp_db \u001b[38;5;241m=\u001b[39m ndb\u001b[38;5;241m.\u001b[39mscenarios[\u001b[38;5;241m0\u001b[39m][\u001b[38;5;124m\"\u001b[39m\u001b[38;5;124mdatabase\u001b[39m\u001b[38;5;124m\"\u001b[39m]\n\u001b[1;32m      3\u001b[0m \u001b[38;5;28;01mfor\u001b[39;00m act \u001b[38;5;129;01min\u001b[39;00m temp_db:\n\u001b[1;32m      4\u001b[0m     \u001b[38;5;28;01mif\u001b[39;00m \u001b[38;5;124m\"\u001b[39m\u001b[38;5;124mEP2050\u001b[39m\u001b[38;5;124m\"\u001b[39m \u001b[38;5;129;01min\u001b[39;00m act[\u001b[38;5;124m\"\u001b[39m\u001b[38;5;124mname\u001b[39m\u001b[38;5;124m\"\u001b[39m] \u001b[38;5;129;01mand\u001b[39;00m \u001b[38;5;124m\"\u001b[39m\u001b[38;5;124mmarket for electricity\u001b[39m\u001b[38;5;124m\"\u001b[39m \u001b[38;5;129;01min\u001b[39;00m act[\u001b[38;5;124m\"\u001b[39m\u001b[38;5;124mname\u001b[39m\u001b[38;5;124m\"\u001b[39m]:\n",
      "\u001b[0;31mNameError\u001b[0m: name 'ndb' is not defined"
     ]
    }
   ],
   "source": [
    "temp_db = ndb.scenarios[0][\"database\"]\n",
    "\n",
    "for act in temp_db:\n",
    "    if \"EP2050\" in act[\"name\"] and \"market for electricity\" in act[\"name\"]:\n",
    "        for exc in act[\"exchanges\"]:\n",
    "            if exc[\"type\"] == \"technosphere\":\n",
    "                print(act[\"name\"], act[\"location\"], exc[\"name\"], exc[\"amount\"], exc[\"location\"])\n",
    "                \n"
   ]
  },
  {
   "cell_type": "code",
   "execution_count": null,
   "id": "15c2e1f4-2d8c-47b5-b0ab-f641f1ebbf47",
   "metadata": {},
   "outputs": [],
   "source": [
    "\n",
    "scenarios = [\n",
    "    {\"model\": \"image\", \"pathway\":\"SSP2-Base\", \"year\": 2030},\n",
    "]\n",
    "\n",
    "ndb = NewDatabase(\n",
    "        scenarios = scenarios,        \n",
    "        source_db=\"ei 3.8 cutoff\",\n",
    "        source_version=\"3.8\",\n",
    "        key='tUePmX_S5B8ieZkkM7WUU2CnO8SmShwmAeWK9x2rTFo=',\n",
    "        external_scenarios=[\n",
    "            switzerland_2050,\n",
    "        ]\n",
    ")\n",
    "\n",
    "ndb.update_electricity()\n",
    "ndb.update_external_scenario()"
   ]
  },
  {
   "cell_type": "markdown",
   "id": "30f6dffc-766d-442d-a93d-d53a2b127e72",
   "metadata": {},
   "source": [
    "Once the projections are integrated, you can export the database(s) back to your Brightway2 project, to\n",
    "a CSV Simapro file, or as a set of sparse amtrices (see main exmaples notebook for more details)."
   ]
  },
  {
   "cell_type": "code",
   "execution_count": 21,
   "id": "942710f3-4354-4faa-9950-bfef27b4fa71",
   "metadata": {},
   "outputs": [
    {
     "data": {
      "text/plain": [
       "'/home/jupyter-jnoehl/.local/share/Brightway3/ei38-teaching.9d24c3b84b374fda3985a161a6e71437/output/lci-Final_IAM_User_50.csv'"
      ]
     },
     "execution_count": 21,
     "metadata": {},
     "output_type": "execute_result"
    }
   ],
   "source": [
    "from brightway2 import *\n",
    "# del databases['TeamPV4']\n",
    "databases\n",
    "bi.export.write_lci_csv(\"Final_IAM_User_50\")"
   ]
  },
  {
   "cell_type": "code",
   "execution_count": 16,
   "id": "c71a9cd5-e547-409e-868f-03cf6fe09cbf",
   "metadata": {},
   "outputs": [
    {
     "name": "stdout",
     "output_type": "stream",
     "text": [
      "Write new database(s) to Brightway2.\n",
      "Prepare database 1.\n",
      "- check for duplicates...\n",
      "- check for values format...\n",
      "- relinking exchanges...\n",
      "Done!\n",
      "24036 datasets\n",
      "681973 exchanges\n",
      "0 unlinked exchanges\n",
      "  \n",
      "Warning: No valid output stream.\n",
      "Title: Writing activities to SQLite3 database:\n",
      "  Started: 10/27/2022 19:47:34\n",
      "  Finished: 10/27/2022 19:48:02\n",
      "  Total time elapsed: 00:00:27\n",
      "  CPU %: 96.10\n",
      "  Memory %: 3.99\n",
      "Created database: Final_IAM_User_30\n",
      "Prepare database 2.\n",
      "- check for duplicates...\n",
      "- check for values format...\n",
      "- relinking exchanges...\n",
      "Done!\n",
      "24036 datasets\n",
      "682133 exchanges\n",
      "0 unlinked exchanges\n",
      "  \n",
      "Warning: No valid output stream.\n",
      "Title: Writing activities to SQLite3 database:\n",
      "  Started: 10/27/2022 19:51:10\n",
      "  Finished: 10/27/2022 19:51:40\n",
      "  Total time elapsed: 00:00:29\n",
      "  CPU %: 96.60\n",
      "  Memory %: 3.99\n",
      "Created database: Final_IAM_User_40\n",
      "Prepare database 3.\n",
      "- check for duplicates...\n",
      "- check for values format...\n",
      "- relinking exchanges...\n",
      "Done!\n",
      "24036 datasets\n",
      "682062 exchanges\n",
      "0 unlinked exchanges\n",
      "  \n",
      "Warning: No valid output stream.\n",
      "Title: Writing activities to SQLite3 database:\n",
      "  Started: 10/27/2022 19:54:47\n",
      "  Finished: 10/27/2022 19:55:15\n",
      "  Total time elapsed: 00:00:27\n",
      "  CPU %: 96.80\n",
      "  Memory %: 4.12\n",
      "Created database: Final_IAM_User_50\n"
     ]
    }
   ],
   "source": [
    "ndb2.write_db_to_brightway(name=[\"Final_IAM_User_30\", \"Final_IAM_User_40\", \"Final_IAM_User_50\"])"
   ]
  },
  {
   "cell_type": "code",
   "execution_count": 15,
   "id": "29f72e40-6d76-4286-a865-ceee9312b0fe",
   "metadata": {},
   "outputs": [],
   "source": [
    "\n",
    "test=Database(\"TeamPV_with_IAM_elec\")"
   ]
  },
  {
   "cell_type": "code",
   "execution_count": 16,
   "id": "5f280861-321e-4af2-ba7e-7f69d6fbaa5c",
   "metadata": {},
   "outputs": [
    {
     "data": {
      "text/plain": [
       "('TeamPV_with_IAM_elec', 'f06fa1d3c529457485a26db952483abc')"
      ]
     },
     "execution_count": 16,
     "metadata": {},
     "output_type": "execute_result"
    }
   ],
   "source": [
    "actList2 = [X for X in test if 'photovoltaic panel, PK/single-Si tandem, at regional storage' in X['name']]\n",
    "testing=actList2[0]\n",
    "testing.key"
   ]
  },
  {
   "cell_type": "code",
   "execution_count": null,
   "id": "1c9f9668-04e1-4f12-8e0c-83efed70ef01",
   "metadata": {},
   "outputs": [],
   "source": [
    "#testing = [act for act in temp_db if \"electricity production, photovoltaic, PK/single-Si tandem\" in act[\"name\"]][0]\n",
    "#import bw2analyzer as ba\n",
    "#import bw2data as bd\n",
    "#bd.get_activity?\n",
    "#testing = bd.get_activity(key?)\n",
    "#print(testing)\n",
    "ipcc = ('IPCC 2013', 'climate change', 'GWP 100a')\n",
    "ba.print_recursive_supply_chain(testing, amount=1, max_level=6, cutoff=0.001)"
   ]
  },
  {
   "cell_type": "code",
   "execution_count": 42,
   "id": "0971aa49-17d6-49a4-9186-2602af5b5550",
   "metadata": {},
   "outputs": [
    {
     "data": {
      "text/plain": [
       "20877"
      ]
     },
     "execution_count": 42,
     "metadata": {},
     "output_type": "execute_result"
    }
   ],
   "source": [
    "len(test)\n"
   ]
  },
  {
   "cell_type": "code",
   "execution_count": 43,
   "id": "bd57909a-0728-4a89-a96f-ff83caaf464b",
   "metadata": {},
   "outputs": [],
   "source": [
    "actList = [X for X in test if 'market for electricity' in X['name']                # Iterates trough activities X in database db and adds them to list 'act_list' if they contain 'text1' in 'name',\n",
    "                        and 'CH' in X['location']                # 'text2' in 'name',\n",
    "                        and 'low voltage' in X['name']]            # but not 'text3' in 'name',"
   ]
  },
  {
   "cell_type": "code",
   "execution_count": 73,
   "id": "c069d979-cef6-4620-8e8c-18ecd60f52f7",
   "metadata": {},
   "outputs": [
    {
     "data": {
      "text/plain": [
       "['market for electricity, low voltage, renewable energy products' (kilowatt hour, CH, None),\n",
       " 'market for electricity, low voltage' (kilowatt hour, CH, None),\n",
       " 'market for electricity, low voltage, EP2050' (kilowatt hour, CH, None)]"
      ]
     },
     "execution_count": 73,
     "metadata": {},
     "output_type": "execute_result"
    }
   ],
   "source": [
    "actList"
   ]
  },
  {
   "cell_type": "code",
   "execution_count": null,
   "id": "cdc4f6fc-96a6-4801-9a16-5b9f0841a022",
   "metadata": {},
   "outputs": [],
   "source": [
    "EP2050=actList[2]"
   ]
  },
  {
   "cell_type": "code",
   "execution_count": null,
   "id": "0026e384-b94a-4614-a87b-a18598a6a1d2",
   "metadata": {},
   "outputs": [],
   "source": [
    "excList = [exc for exc in EP2050.technosphere()]\n",
    "excList"
   ]
  },
  {
   "cell_type": "code",
   "execution_count": 17,
   "id": "03fd42b9-8203-4be6-9361-9deebba1b350",
   "metadata": {},
   "outputs": [
    {
     "data": {
      "text/plain": [
       "'photovoltaic panel, PK/single-Si tandem, at regional storage' (square meter, DE, None)"
      ]
     },
     "execution_count": 17,
     "metadata": {},
     "output_type": "execute_result"
    }
   ],
   "source": [
    "import brightway2 as bw\n",
    "funUnit = {testing:1}  \n",
    "testing"
   ]
  },
  {
   "cell_type": "code",
   "execution_count": 113,
   "id": "d7ea7c8f-52de-43bf-88f4-793be301c63b",
   "metadata": {},
   "outputs": [
    {
     "data": {
      "text/plain": [
       "('EDIP w/o LT (superseded)',\n",
       " 'resource consumption w/o LT',\n",
       " 'non-renewable resources, zinc w/o LT')"
      ]
     },
     "execution_count": 113,
     "metadata": {},
     "output_type": "execute_result"
    }
   ],
   "source": [
    "mh=methods.random()\n",
    "mh"
   ]
  },
  {
   "cell_type": "code",
   "execution_count": 18,
   "id": "19085900-a610-43f4-bc7d-88691b93d93e",
   "metadata": {},
   "outputs": [
    {
     "ename": "NameError",
     "evalue": "name 'ipcc' is not defined",
     "output_type": "error",
     "traceback": [
      "\u001b[0;31m---------------------------------------------------------------------------\u001b[0m",
      "\u001b[0;31mNameError\u001b[0m                                 Traceback (most recent call last)",
      "Cell \u001b[0;32mIn [18], line 1\u001b[0m\n\u001b[0;32m----> 1\u001b[0m lca\u001b[38;5;241m=\u001b[39mbw\u001b[38;5;241m.\u001b[39mLCA(funUnit, ipcc)\n\u001b[1;32m      2\u001b[0m lca\u001b[38;5;241m.\u001b[39mdemand\n",
      "\u001b[0;31mNameError\u001b[0m: name 'ipcc' is not defined"
     ]
    }
   ],
   "source": [
    "lca=bw.LCA(funUnit, ipcc)\n",
    "lca.demand"
   ]
  },
  {
   "cell_type": "code",
   "execution_count": 122,
   "id": "78637737-bdd3-4ed0-825f-a6a1b7d4058f",
   "metadata": {},
   "outputs": [],
   "source": [
    "lca.lci()"
   ]
  },
  {
   "cell_type": "code",
   "execution_count": 123,
   "id": "5f2e8cfb-e158-437d-846d-90abc78d61f7",
   "metadata": {},
   "outputs": [],
   "source": [
    "lca.lcia()"
   ]
  },
  {
   "cell_type": "code",
   "execution_count": 126,
   "id": "d483913a-0986-42c0-b339-3c9dc5a24591",
   "metadata": {},
   "outputs": [
    {
     "data": {
      "text/plain": [
       "147.4712327446954"
      ]
     },
     "execution_count": 126,
     "metadata": {},
     "output_type": "execute_result"
    }
   ],
   "source": [
    "lca.score"
   ]
  },
  {
   "cell_type": "code",
   "execution_count": 19,
   "id": "6c03afa0-f501-43bc-bbf3-83539f7b31dc",
   "metadata": {},
   "outputs": [
    {
     "name": "stdout",
     "output_type": "stream",
     "text": [
      "Fraction of score | Absolute score | Amount | Activity\n",
      "0001 | 136.1 |     1 | 'photovoltaic panel, PK/single-Si tandem, at regional storage' (square\n",
      "  0.11 | 14.99 |  2.13 | 'aluminium alloy production, AlMg3' (kilogram, RER, None)\n",
      "    0.0137 | 1.871 | 0.06496 | 'market for magnesium' (kilogram, GLO, None)\n",
      "      0.0121 | 1.644 | 0.05381 | 'magnesium production, pidgeon process' (kilogram, CN, None)\n",
      "    0.0856 | 11.65 | 2.055 | 'market for aluminium, cast alloy' (kilogram, GLO, None)\n",
      "      0.0764 |  10.4 | 0.5373 | 'aluminium ingot, primary, to aluminium, cast alloy market' (kilogram,\n",
      "  0.0178 | 2.417 | 0.975 | 'ethylvinylacetate production, foil' (kilogram, RER, None)\n",
      "    0.0152 | 2.067 | 0.9945 | 'market for ethylene vinyl acetate copolymer' (kilogram, RER, None)\n",
      "      0.015 | 2.042 | 0.9945 | 'ethylene vinyl acetate copolymer production' (kilogram, RER, None)\n",
      "  0.0183 | 2.495 | 0.295 | 'glass fibre reinforced plastic production, polyamide, injection mould\n",
      "    0.0164 | 2.232 | 0.3097 | 'market for nylon 6-6, glass-filled' (kilogram, RER, None)\n",
      "      0.0163 | 2.224 | 0.3097 | 'nylon 6-6 production, glass-filled' (kilogram, RER, None)\n",
      "  0.0363 | 4.937 |  5.08 | 'market for flat glass, uncoated' (kilogram, RER, None)\n",
      "    0.0363 | 4.937 |  5.08 | 'flat glass production, uncoated' (kilogram, RER, None)\n",
      "  0.0259 | 3.527 | 0.00938 | 'market for metallization paste, front side' (kilogram, RER, None)\n",
      "    0.0259 | 3.526 | 0.00938 | 'metallization paste production, front side' (kilogram, RER, None)\n",
      "      0.0259 | 3.522 | 0.007863 | 'market for silver' (kilogram, GLO, None)\n",
      "  0.0116 | 1.577 | 0.00352 | 'market for silver' (kilogram, GLO, None)\n",
      "  0.605 | 82.38 |     1 | 'photovoltaic cell, single-Si, at plant' (square meter, CN, None)\n",
      "    0.449 |  61.1 |  1.03 | 'single-Si wafer production, photovoltaic' (square meter, CN, None)\n",
      "      00.4 |  54.4 | 0.6131 | 'silicon production, single crystal, Czochralski process, photovoltaic\n",
      "      0.0305 | 4.153 | 4.905 | 'market group for electricity, medium voltage' (kilowatt hour, CHN, No\n",
      "    0.11 | 15.03 | 17.75 | 'market group for electricity, medium voltage' (kilowatt hour, CHN, No\n",
      "      0.11 | 14.95 | 17.83 | 'market group for electricity, high voltage' (kilowatt hour, CHN, None\n",
      "  0.058 | 7.901 |  8.13 | 'solar glass production, low-iron' (kilogram, RER, None)\n",
      "    0.058 | 7.901 |  8.13 | 'market for flat glass, uncoated' (kilogram, RER, None)\n",
      "      0.058 | 7.901 |  8.13 | 'flat glass production, uncoated' (kilogram, RER, None)\n",
      "  0.0107 | 1.454 |     8 | 'tempering, flat glass' (kilogram, RER, None)\n",
      "  0.0562 | 7.649 |  23.4 | 'market group for electricity, medium voltage' (kilowatt hour, WEU, No\n",
      "    0.0557 | 7.579 | 23.53 | 'market group for electricity, high voltage' (kilowatt hour, WEU, None\n",
      "      0.0108 | 1.464 | 1.226 | 'electricity production, lignite' (kilowatt hour, DE, None)\n"
     ]
    }
   ],
   "source": [
    "import bw2analyzer as ba\n",
    "ipcc = ('IPCC 2013', 'climate change', 'GWP 100a')\n",
    "# ba.print_recursive_supply_chain(testing, amount=1, max_level=6, cutoff=0.01)\n",
    "ba.print_recursive_calculation(testing, ipcc, amount=1, cutoff=0.01)"
   ]
  },
  {
   "cell_type": "code",
   "execution_count": 128,
   "id": "6981fee9-047d-4235-9224-a6c5a6814b3f",
   "metadata": {},
   "outputs": [
    {
     "data": {
      "text/plain": [
       "'photovoltaic slanted-roof installation, 3kWp, CIS, panel, mounted, on roof' (unit, RoW, None)"
      ]
     },
     "execution_count": 128,
     "metadata": {},
     "output_type": "execute_result"
    }
   ],
   "source": [
    "actList2 = [X for X in test if 'photovoltaic slanted-roof installation' in X['name']]\n",
    "PanelOld=actList2[8]\n",
    "PanelOld"
   ]
  },
  {
   "cell_type": "code",
   "execution_count": 129,
   "id": "c0c58174-1b15-4c2f-bd8b-0efe262f9414",
   "metadata": {},
   "outputs": [
    {
     "name": "stdout",
     "output_type": "stream",
     "text": [
      "Fraction of score | Absolute score | Amount | Activity\n",
      "0001 |  5580 |     1 | 'photovoltaic slanted-roof installation, 3kWp, CIS, panel, mounted, on\n",
      "  0.632 |  3528 | 28.92 | 'market for photovoltaic panel, CIS' (square meter, GLO, None)\n",
      "    0.227 |  1268 | 10.41 | 'photovoltaic panel production, CIS' (square meter, DE, None)\n",
      "      0.203 |  1131 | 10.41 | 'market for photovoltaic laminate, CIS' (square meter, GLO, None)\n",
      "      0.0223 | 124.3 | 16.35 | 'market for aluminium alloy, AlMg3' (kilogram, GLO, None)\n",
      "    0.405 |  2261 | 18.51 | 'photovoltaic panel production, CIS' (square meter, RoW, None)\n",
      "      0.0396 |   221 | 29.06 | 'market for aluminium alloy, AlMg3' (kilogram, GLO, None)\n",
      "      0.36 |  2011 | 18.51 | 'market for photovoltaic laminate, CIS' (square meter, GLO, None)\n",
      "  0.101 | 562.2 |   2.4 | 'market for inverter, 2.5kW' (unit, GLO, None)\n",
      "    0.0325 | 181.2 | 0.7934 | 'inverter production, 2.5kW' (unit, RER, None)\n",
      "    0.0683 | 381.1 | 1.607 | 'inverter production, 2.5kW' (unit, RoW, None)\n",
      "      0.0105 | 58.42 | 8.852 | 'market for copper, cathode' (kilogram, GLO, None)\n",
      "      0.0124 | 69.38 | 0.04498 | 'market for integrated circuit, logic type' (kilogram, GLO, None)\n",
      "  0.232 |  1293 | 28.08 | 'market for photovoltaic mounting system, for slanted-roof installatio\n",
      "    0.232 |  1292 | 28.05 | 'photovoltaic mounting system production, for slanted-roof installatio\n",
      "      0.197 |  1102 | 79.55 | 'market for aluminium, wrought alloy' (kilogram, GLO, None)\n",
      "      0.0171 | 95.31 | 42.08 | 'market for steel, low-alloyed, hot rolled' (kilogram, GLO, None)\n",
      "      0.013 | 72.32 | 79.55 | 'market for section bar extrusion, aluminium' (kilogram, GLO, None)\n",
      "  0.035 | 195.5 |     1 | 'market for photovoltaics, electric installation for 3kWp module, at b\n",
      "    0.035 | 195.5 |     1 | 'photovoltaics, electric installation for 3kWp module, at building' (u\n",
      "      0.0174 | 97.01 |  14.7 | 'market for copper, cathode' (kilogram, GLO, None)\n"
     ]
    }
   ],
   "source": [
    "import bw2analyzer as ba\n",
    "\n",
    "\n",
    "ipcc = ('IPCC 2013', 'climate change', 'GWP 100a')\n",
    "# ba.print_recursive_supply_chain(testing, amount=1, max_level=6, cutoff=0.01)\n",
    "ba.print_recursive_calculation(PanelOld, ipcc, amount=1, cutoff=0.01)"
   ]
  },
  {
   "cell_type": "code",
   "execution_count": null,
   "id": "e376864a-a08d-458f-8d8c-24e83ddaad75",
   "metadata": {},
   "outputs": [],
   "source": []
  }
 ],
 "metadata": {
  "kernelspec": {
   "display_name": "Python [conda env:bw]",
   "language": "python",
   "name": "conda-env-bw-py"
  },
  "language_info": {
   "codemirror_mode": {
    "name": "ipython",
    "version": 3
   },
   "file_extension": ".py",
   "mimetype": "text/x-python",
   "name": "python",
   "nbconvert_exporter": "python",
   "pygments_lexer": "ipython3",
   "version": "3.10.6"
  }
 },
 "nbformat": 4,
 "nbformat_minor": 5
}
