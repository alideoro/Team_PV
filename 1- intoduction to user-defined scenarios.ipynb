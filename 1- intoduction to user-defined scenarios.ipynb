{
 "cells": [
  {
   "cell_type": "markdown",
   "id": "127fded4-377c-48c9-8d30-33852dfbd0ab",
   "metadata": {},
   "source": [
    "# Use examples of [premise](https://github.com/romainsacchi/premise) with user-generated scenarios\n",
    "\n",
    "Author: [romainsacchi](https://github.com/romainsacchi)\n",
    "\n",
    "This notebook shows examples on how to use `premise` to adapt the life cycle inventory database [ecoinvent](https://www.ecoinvent.org/) for prospective environmental impact assessment, using **user-generated scenarios**.\n",
    "\n",
    "User-generated scenario are scenarios built by the premise users community. They can be used on their own\n",
    "or together with a global IAM scenario.\n",
    "Public community scenarios are listed under the repository [Premise community scenario](https://github.com/premise-community-scenarios)."
   ]
  },
  {
   "cell_type": "markdown",
   "id": "a7694ff4-917d-4027-afe1-d63bf8d5b387",
   "metadata": {},
   "source": [
    "User-generated scenarios are \"packaged\" into [data packages](https://specs.frictionlessdata.io/data-package/)."
   ]
  },
  {
   "cell_type": "markdown",
   "id": "f2c96741-8a52-4d5d-b2bf-fc091ad97d43",
   "metadata": {},
   "source": [
    "Data packages ensure that the data used comes with all necessary metadata, resources (scenario data, inventories, etc.), and that the data is formatted in a correct way."
   ]
  },
  {
   "cell_type": "markdown",
   "id": "a9e4e85b-22eb-4a7e-928a-2ef7b5dd2814",
   "metadata": {},
   "source": [
    "To fetch a data packge, you can use the `datapackage` library.\n",
    "For exmaple, let's fetch the user-generated scenario about [Switzerland's future energy supply](https://github.com/premise-community-scenarios/energy-perspective-2050-switzerland)."
   ]
  },
  {
   "cell_type": "code",
   "execution_count": 59,
   "id": "5242839d-9061-44bd-bad6-82d36a2a3a1f",
   "metadata": {},
   "outputs": [
    {
     "name": "stdout",
     "output_type": "stream",
     "text": [
      "Cache folder cleared!\n"
     ]
    }
   ],
   "source": [
    "from premise import *\n",
    "\n",
    "clear_cache()"
   ]
  },
  {
   "cell_type": "code",
   "execution_count": 123,
   "id": "90c8da09-12b1-4c35-bb36-550be70a738e",
   "metadata": {},
   "outputs": [],
   "source": [
    "from datapackage import Package"
   ]
  },
  {
   "cell_type": "code",
   "execution_count": 124,
   "id": "bda9c910-140b-4e65-9656-156158968c25",
   "metadata": {},
   "outputs": [],
   "source": [
    "# URL pointing to the raw datapackage.json file of the scenario (on github or computer)\n",
    "#url = r\"https://raw.githubusercontent.com/alideoro/Team_PV/main/energy-perspective-2050-switzerland-main2/datapackage.json\"\n",
    "url = r\"https://raw.githubusercontent.com/alideoro/Team_PV/main/energy-perspective-2050-switzerland-main/datapackage.json\"\n",
    "\n",
    "switzerland_2050 = Package(url)"
   ]
  },
  {
   "cell_type": "markdown",
   "id": "b615c6c4-6309-4b55-a375-f95f3446b8f5",
   "metadata": {},
   "source": [
    "The datapackage has 3 resources: scenario data, inventories and a configuration file."
   ]
  },
  {
   "cell_type": "code",
   "execution_count": 73,
   "id": "b88cc08c-c6c2-4890-9c39-c52f51d5b98e",
   "metadata": {},
   "outputs": [
    {
     "name": "stdout",
     "output_type": "stream",
     "text": [
      "scenario_data\n",
      "inventories\n",
      "config\n"
     ]
    }
   ],
   "source": [
    "for resource in switzerland_2050.resources:\n",
    "    print(resource.name)"
   ]
  },
  {
   "cell_type": "markdown",
   "id": "d4e664d6-19a2-4ed2-aeec-38bfa97dce8f",
   "metadata": {},
   "source": [
    "or"
   ]
  },
  {
   "cell_type": "code",
   "execution_count": 74,
   "id": "a02895f5-adb8-4b7c-a5a1-a49ed936f140",
   "metadata": {},
   "outputs": [
    {
     "data": {
      "text/plain": [
       "['scenario_data', 'inventories', 'config']"
      ]
     },
     "execution_count": 74,
     "metadata": {},
     "output_type": "execute_result"
    }
   ],
   "source": [
    "switzerland_2050.resource_names"
   ]
  },
  {
   "cell_type": "markdown",
   "id": "676f4a89-f709-46c1-8bc6-19f174ddff2f",
   "metadata": {},
   "source": [
    "And you can directly read them (or look the resources up directly from the repo):"
   ]
  },
  {
   "cell_type": "code",
   "execution_count": 75,
   "id": "c8814dca-0f42-4fb9-9169-025f1860f4b4",
   "metadata": {},
   "outputs": [],
   "source": [
    "import pandas as pd"
   ]
  },
  {
   "cell_type": "code",
   "execution_count": 125,
   "id": "4ab51f60-2fbb-48ec-a70d-2348aa0c64b4",
   "metadata": {},
   "outputs": [],
   "source": [
    "#data.raw_read()\n",
    "\n",
    "data2 = switzerland_2050.get_resource(\"scenario_data\").read()\n",
    "df=pd.DataFrame(data2)"
   ]
  },
  {
   "cell_type": "code",
   "execution_count": 126,
   "id": "21ff3b4f-3bcc-4e35-8a11-87de7c447ef2",
   "metadata": {},
   "outputs": [
    {
     "data": {
      "text/plain": [
       "array(['Production|Electricity|Run-of-river hydro',\n",
       "       'Production|Electricity|Reservoir',\n",
       "       'Production|Electricity|Nuclear|Boiling water reactor',\n",
       "       'Production|Electricity|Nuclear|Pressure water reactor',\n",
       "       'Production|Electricity|Conventional|Waste-to-Energy',\n",
       "       'Production|Electricity|Conventional|Other',\n",
       "       'Production|Electricity|Renewable|Photovoltaic_commercial',\n",
       "       'Production|Electricity|Renewable|Photovoltaic2',\n",
       "       'deple_pv_monoSI',\n",
       "       'Production|Electricity|Renewable|Photovoltaic_residential',\n",
       "       'Production|Electricity|Renewable|Wind turbines|Onshore',\n",
       "       'Production|Electricity|Renewable|Geothermal',\n",
       "       'Production|Electricity|Renewable|Biomass',\n",
       "       'Production|Electricity|Renewable|Biogas',\n",
       "       'Production|Electricity|Medium to high',\n",
       "       'Production|Electricity|Low to medium',\n",
       "       'Production|Electricity|Import',\n",
       "       'Transmission losses|Electricity|Medium to high',\n",
       "       'Distribution losses|Electricity|Low to medium',\n",
       "       'Production|Liquid fuel|Diesel|Diesel',\n",
       "       'Production|Liquid fuel|Diesel|Biodiesel',\n",
       "       'Production|Liquid fuel|Diesel|Synthetic diesel',\n",
       "       'Production|Liquid fuel|Petrol|Petrol',\n",
       "       'Production|Liquid fuel|Petrol|Bioethanol',\n",
       "       'Production|Liquid fuel|Petrol|Synthetic petrol',\n",
       "       'Production|Gaseous fuel|Hydrogen|Domestic|Electrolysis',\n",
       "       'Production|Gaseous fuel|Hydrogen|Neighboring countries|Electrolysis',\n",
       "       'Efficiency|Gaseous fuel|Hydrogen|Domestic|Electrolysis',\n",
       "       'Efficiency|Gaseous fuel|Hydrogen|Neighboring countries|Electrolysis',\n",
       "       'Production|Gaseous fuel|Hydrogen|Gaseous to liquid',\n",
       "       'Distribution losses|Gaseous fuel|Hydrogen|Liquefaction',\n",
       "       'Distribution losses|Gaseous fuel|Hydrogen|Evaporation',\n",
       "       'Distribution losses|Gaseous fuel|Hydrogen|Leakage',\n",
       "       'Cushion gas|Gaseous fuel|Hydrogen|Geological storage',\n",
       "       'Efficiency|Gaseous fuel|Hydrogen|Liquefaction',\n",
       "       'Production|Liquid fuel|DAC', 'Production|Gaseous fuel|CNG',\n",
       "       'Production|Gaseous fuel|LNG',\n",
       "       'Production|Gaseous fuel|Biomethane',\n",
       "       'Production|Gaseous fuel|Synthetic gas',\n",
       "       'Production|Gaseous fuel|Low to high',\n",
       "       'Distribution losses|Gaseous fuel|Low to high',\n",
       "       'Production|Electricity|Neighbor countries|Reservoir',\n",
       "       'Production|Electricity|Neighbor countries|Nuclear',\n",
       "       'Production|Electricity|Neighbor countries|Coal',\n",
       "       'Production|Electricity|Neighbor countries|Natural gas',\n",
       "       'Production|Electricity|Neighbor countries|Conventional|Waste-to-Energy',\n",
       "       'Production|Electricity|Neighbor countries|Renewable|Photovoltaic2',\n",
       "       'Production|Electricity|Neighbor countries|Renewable|Photovoltaic',\n",
       "       'Production|Electricity|Neighbor countries|Renewable|Wind turbines|Onshore',\n",
       "       'Production|Electricity|Neighbor countries|Renewable|Wind turbines|Offshore',\n",
       "       'Production|Electricity|Neighbor countries|Renewable|Biomass',\n",
       "       'Production|Electricity|Neighbor countries|Import',\n",
       "       'Production|Electricity|Renewable|Photovoltaic'], dtype=object)"
      ]
     },
     "execution_count": 126,
     "metadata": {},
     "output_type": "execute_result"
    }
   ],
   "source": [
    "df.loc[:, 4].unique()"
   ]
  },
  {
   "cell_type": "markdown",
   "id": "952e8dfe-71ee-4649-80ac-a6e3934cfa1f",
   "metadata": {},
   "source": [
    "The datapackage can also be locally stored (i.e., on your computer), in which case you only\n",
    "need to provide the filepath to the `datapackage.json` file."
   ]
  },
  {
   "cell_type": "markdown",
   "id": "09760b15-e129-46b8-85d2-80aefa5c2a0c",
   "metadata": {},
   "source": [
    "Once the datapackage is loaded, you just need to pass it (in a list) to the `NewDatabase` instance of `premise`."
   ]
  },
  {
   "cell_type": "code",
   "execution_count": 127,
   "id": "f15e00e7-4086-4312-8090-ad432ea368d6",
   "metadata": {},
   "outputs": [
    {
     "data": {
      "text/plain": [
       "Databases dictionary with 7 object(s):\n",
       "\tTeamPV\n",
       "\tTeamPV2\n",
       "\tTeamPV3\n",
       "\tTeamPV4\n",
       "\tTeamPV5\n",
       "\tbiosphere3\n",
       "\tei 3.8 cutoff"
      ]
     },
     "execution_count": 127,
     "metadata": {},
     "output_type": "execute_result"
    }
   ],
   "source": [
    "from premise import *\n",
    "import bw2data\n",
    "bw2data.projects.set_current(\"ei38-teaching\")\n",
    "bw2data.databases"
   ]
  },
  {
   "cell_type": "code",
   "execution_count": 128,
   "id": "b0408c8e-ce9e-4d6c-8e4b-a6a0db1ff384",
   "metadata": {},
   "outputs": [
    {
     "name": "stdout",
     "output_type": "stream",
     "text": [
      "premise v.(1, 3, 6)\n",
      "+------------------------------------------------------------------+\n",
      "| Warning                                                          |\n",
      "+------------------------------------------------------------------+\n",
      "| Because some of the scenarios can yield LCI databases            |\n",
      "| containing net negative emission technologies (NET),             |\n",
      "| it is advised to account for biogenic CO2 flows when calculating |\n",
      "| Global Warming potential indicators.                             |\n",
      "| `premise_gwp` provides characterization factors for such flows.  |\n",
      "| It also provides factors for hydrogen emissions to air.          |\n",
      "|                                                                  |\n",
      "| Within your bw2 project:                                         |\n",
      "| from premise_gwp import add_premise_gwp                          |\n",
      "| add_premise_gwp()                                                |\n",
      "+------------------------------------------------------------------+\n",
      "+--------------------------------+----------------------------------+\n",
      "| Utils functions                | Description                      |\n",
      "+--------------------------------+----------------------------------+\n",
      "| clear_cache()                  | Clears the cache folder. Useful  |\n",
      "|                                | when updating `premise`or        |\n",
      "|                                | encountering issues with         |\n",
      "|                                | inventories.                     |\n",
      "+--------------------------------+----------------------------------+\n",
      "| get_regions_definition(model)  | Retrieves the list of countries  |\n",
      "|                                | for each region of the model.    |\n",
      "+--------------------------------+----------------------------------+\n",
      "| ndb.NewDatabase(...)           | Generates a summary of the most  |\n",
      "| ndb.generate_scenario_report() | important scenarios' variables.  |\n",
      "+--------------------------------+----------------------------------+\n",
      "Keep uncertainty data?\n",
      "NewDatabase(..., keep_uncertainty_data=True)\n",
      "\n",
      "Hide these messages?\n",
      "NewDatabase(..., quiet=True)\n",
      "\n",
      "//////////////////// EXTRACTING SOURCE DATABASE ////////////////////\n",
      "Done!\n",
      "\n",
      "////////////////// IMPORTING DEFAULT INVENTORIES ///////////////////\n",
      "Done!\n",
      "\n",
      "/////////////////////// EXTRACTING IAM DATA ////////////////////////\n",
      "Done!\n"
     ]
    }
   ],
   "source": [
    "scenarios = [\n",
    "    {\"model\": \"image\", \"pathway\":\"SSP2-Base\", \"year\": 2030},\n",
    "    #{\"model\": \"image\", \"pathway\":\"SSP2-Base\", \"year\": 2040},             # multiple scenarios can be specified\n",
    "    #{\"model\": \"image\", \"pathway\":\"SSP2-Base\", \"year\": 2050},\n",
    "]\n",
    "\n",
    "ndb = NewDatabase(\n",
    "        scenarios = scenarios,        \n",
    "        source_db=\"ei 3.8 cutoff\",\n",
    "        source_version=\"3.8\",\n",
    "        key='tUePmX_S5B8ieZkkM7WUU2CnO8SmShwmAeWK9x2rTFo=',\n",
    "        external_scenarios=[\n",
    "            switzerland_2050,\n",
    "        ]\n",
    ")\n"
   ]
  },
  {
   "cell_type": "markdown",
   "id": "560b5cc3-11c8-4499-b553-d79ec5203e3e",
   "metadata": {},
   "source": [
    "To integrate the projections of the user-generated scenario, call `update_external_scenario()`."
   ]
  },
  {
   "cell_type": "code",
   "execution_count": 129,
   "id": "51dd0dd9-86bf-42f3-bded-d3da98178b7e",
   "metadata": {},
   "outputs": [
    {
     "name": "stdout",
     "output_type": "stream",
     "text": [
      "\n",
      "//////////////// IMPORTING USER-DEFINED INVENTORIES ////////////////\n",
      "Extracted 1 worksheets in 0.00 seconds\n",
      "Create custom markets.\n",
      "Log file of exchanges saved under /opt/tljh/user/envs/bw/lib/python3.10/site-packages/premise/data/logs.\n"
     ]
    }
   ],
   "source": [
    "ndb.update_external_scenario()"
   ]
  },
  {
   "cell_type": "markdown",
   "id": "37d05dd0-e5a1-4ff5-a91c-8c9c342da322",
   "metadata": {},
   "source": [
    "You can combine the user-generated scenario with any, all or none of the projections for the IAM model.\n",
    "For example, here with the electricity projections of the IMAGE SSP2-Base scenario:"
   ]
  },
  {
   "cell_type": "code",
   "execution_count": 130,
   "id": "091450c1-212e-41e9-9390-8ecfdb32f4fa",
   "metadata": {},
   "outputs": [
    {
     "name": "stdout",
     "output_type": "stream",
     "text": [
      "market for electricity, from neighboring countries, high voltage, EP2050 CH electricity production, hydro, reservoir, alpine region 0.13059964701855462 CH\n",
      "market for electricity, from neighboring countries, high voltage, EP2050 CH electricity production, nuclear, boiling water reactor 0.22440993513818197 CH\n",
      "market for electricity, from neighboring countries, high voltage, EP2050 CH electricity production, hard coal 0.07206638306595883 RoW\n",
      "market for electricity, from neighboring countries, high voltage, EP2050 CH electricity production, natural gas, combined cycle power plant 0.19563488461157266 CH\n",
      "market for electricity, from neighboring countries, high voltage, EP2050 CH treatment of municipal solid waste, incineration 0.001355966489917591 CH\n",
      "market for electricity, from neighboring countries, high voltage, EP2050 CH electricity production, photovoltaic 0.09750412452725007 CH\n",
      "market for electricity, from neighboring countries, high voltage, EP2050 CH electricity production, wind, >3MW turbine, onshore 0.17370767800039313 CH\n",
      "market for electricity, from neighboring countries, high voltage, EP2050 CH electricity production, wind, 1-3MW turbine, offshore 0.05766170961254876 RoW\n",
      "market for electricity, from neighboring countries, high voltage, EP2050 CH heat and power co-generation, wood chips, 6667 kW 0.04705967153562236 CH\n",
      "market for electricity, from neighboring countries, high voltage, EP2050 CH transmission network construction, long-distance 3.17e-10 UCTE\n",
      "market for electricity, from neighboring countries, high voltage, EP2050 CH transmission network construction, electricity, high voltage 6.58e-09 CH\n",
      "market for electricity, high voltage, EP2050 CH electricity production, hydro, run-of-river 0.23005781170569897 CH\n",
      "market for electricity, high voltage, EP2050 CH electricity production, hydro, reservoir, alpine region 0.2931142654772429 CH\n",
      "market for electricity, high voltage, EP2050 CH electricity production, nuclear, boiling water reactor 0.05457431351703362 CH\n",
      "market for electricity, high voltage, EP2050 CH electricity production, nuclear, pressure water reactor 0.061544998995602306 CH\n",
      "market for electricity, high voltage, EP2050 CH treatment of municipal solid waste, incineration 0.02518371552866477 CH\n",
      "market for electricity, high voltage, EP2050 CH electricity production, natural gas, combined cycle power plant 0.008863602650343146 CH\n",
      "market for electricity, high voltage, EP2050 CH electricity production, photovoltaic, commercial 0.05542353517900194 CH\n",
      "market for electricity, high voltage, EP2050 CH electricity production, wind, 1-3MW turbine, onshore 0.004232073372636435 CH\n",
      "market for electricity, high voltage, EP2050 CH electricity production, deep geothermal 0.0006045819103766336 CH\n",
      "market for electricity, high voltage, EP2050 CH heat and power co-generation, wood chips, 6667 kW 0.003418766755105963 CH\n",
      "market for electricity, high voltage, EP2050 CH heat and power co-generation, biogas, gas engine 0.0038758018897359185 CH\n",
      "market for electricity, high voltage, EP2050 CH market for electricity, from neighboring countries, high voltage, EP2050 0.25910653301855724 CH\n",
      "market for electricity, high voltage, EP2050 CH transmission network construction, long-distance 3.17e-10 UCTE\n",
      "market for electricity, high voltage, EP2050 CH transmission network construction, electricity, high voltage 6.58e-09 CH\n",
      "market for electricity, medium voltage, EP2050 CH market for electricity, high voltage, EP2050 1.06951871657754 CH\n",
      "market for electricity, medium voltage, EP2050 CH market for sulfur hexafluoride, liquid 5.7754010695187156e-08 RER\n",
      "market for electricity, medium voltage, EP2050 CH transmission network construction, electricity, medium voltage 1.9893048128342244e-08 CH\n",
      "market for electricity, low voltage, EP2050 CH market for electricity, medium voltage, EP2050 0.9811578187112255 CH\n",
      "market for electricity, low voltage, EP2050 CH monofacial_tandem_electricity 0.0012127895145199496 RER\n",
      "market for electricity, low voltage, EP2050 CH electricity production, photovoltaic, residential 0.045378620962332424 CH\n",
      "market for electricity, low voltage, EP2050 CH market for sulfur hexafluoride, liquid 3.0729701952723535e-09 RER\n",
      "market for electricity, low voltage, EP2050 CH distribution network construction, electricity, low voltage 8.982528263103803e-08 CH\n"
     ]
    }
   ],
   "source": [
    "temp_db = ndb.scenarios[0][\"database\"]\n",
    "\n",
    "for act in temp_db:\n",
    "    if \"EP2050\" in act[\"name\"] and \"market for electricity\" in act[\"name\"]:\n",
    "        for exc in act[\"exchanges\"]:\n",
    "            if exc[\"type\"] == \"technosphere\":\n",
    "                print(act[\"name\"], act[\"location\"], exc[\"name\"], exc[\"amount\"], exc[\"location\"])"
   ]
  },
  {
   "cell_type": "code",
   "execution_count": null,
   "id": "15c2e1f4-2d8c-47b5-b0ab-f641f1ebbf47",
   "metadata": {},
   "outputs": [],
   "source": [
    "scenarios = [\n",
    "    {\"model\": \"image\", \"pathway\":\"SSP2-Base\", \"year\": 2030},\n",
    "]\n",
    "\n",
    "ndb = NewDatabase(\n",
    "        scenarios = scenarios,        \n",
    "        source_db=\"ei 3.8 cutoff\",\n",
    "        source_version=\"3.8\",\n",
    "        key='tUePmX_S5B8ieZkkM7WUU2CnO8SmShwmAeWK9x2rTFo=',\n",
    "        external_scenarios=[\n",
    "            switzerland_2050,\n",
    "        ]\n",
    ")\n",
    "\n",
    "#ndb.update_electricity()\n",
    "ndb.update_external_scenario()"
   ]
  },
  {
   "cell_type": "markdown",
   "id": "30f6dffc-766d-442d-a93d-d53a2b127e72",
   "metadata": {},
   "source": [
    "Once the projections are integrated, you can export the database(s) back to your Brightway2 project, to\n",
    "a CSV Simapro file, or as a set of sparse amtrices (see main exmaples notebook for more details)."
   ]
  },
  {
   "cell_type": "code",
   "execution_count": 121,
   "id": "4e3ac753-0600-4aec-9d6f-df84ef4a42e8",
   "metadata": {},
   "outputs": [
    {
     "data": {
      "text/plain": [
       "{'classifications': [('ISIC rev.4 ecoinvent',\n",
       "   '3510:Electric power generation, transmission and distribution'),\n",
       "  ('EcoSpold01Categories', 'electricity/supply mix'),\n",
       "  ('CPC', '17100: Electrical energy')],\n",
       " 'comment': \"The shares of electricity technologies on this market are valid for the year 2019. They have been calculated by the data provider and don't necessarily correspond with the production volumes entered in the undefined datasets of the different electricity producers. The shares have been calculated based on statistics from 2019: Swiss Federal Office of Energy SFOE, Swiss Electricity Statistics 2020; (https://www.bfe.admin.ch/bfe/en/home.html).\\nThis is a market activity. Each market represents the consumption mix of a product in a given geography, connecting suppliers with consumers of the same product in the same geographical area. Markets group the producers and also the imports of the product (if relevant) within the same geographical area. They also account for transport to the consumer and for the losses during that process, when relevant.\\nThis dataset describes the electricity from renewable sources available on the high voltage level in Switzerland.\\nTechnology:  Electricity from certified sources. \\nAverage technology used to transmit and distribute electricity. Includes underground and overhead lines. Electricity production according to related  technology datasets.\\n\\nDefinition of the voltage levels: \\n - High voltage level above 24 kV (large scale industry)\\n - Medium voltage level between 1 kV and 24 kV (medium to small scale industry, service sector\\nand public buildings)\\n - Low voltage level below 1 kV (Households)\\nTime period:  The annual production volumes of this market are taken from Stolz&Frischknecht 2015 and are valid for the year 2011. Stolz, P., Frischnkecht, R. 2015. Umweltbilanz Strommix Schweiz 2011. Issued by treeze Ltd. for the Federal Office for the Environment, Switzerland. \",\n",
       " 'location': 'CH',\n",
       " 'database': 'TeamPV4',\n",
       " 'code': '138a5ce6234d92a9746e884ca4ee4b2e',\n",
       " 'name': 'market for electricity, high voltage, renewable energy products',\n",
       " 'reference product': 'electricity, high voltage, renewable energy products',\n",
       " 'unit': 'kilowatt hour',\n",
       " 'exchanges': [{'uncertainty type': 0,\n",
       "   'amount': 3.17e-10,\n",
       "   'type': 'technosphere',\n",
       "   'production volume': 0.0,\n",
       "   'product': 'transmission network, long-distance',\n",
       "   'name': 'transmission network construction, long-distance',\n",
       "   'unit': 'kilometer',\n",
       "   'location': 'UCTE',\n",
       "   'database': 'ei 3.8 cutoff',\n",
       "   'input': ('TeamPV4', '0c68a830dc58a22c5755d422e5d3f72a'),\n",
       "   'output': ('TeamPV4', '138a5ce6234d92a9746e884ca4ee4b2e')},\n",
       "  {'uncertainty type': 0,\n",
       "   'loc': 1.0,\n",
       "   'amount': 1.0,\n",
       "   'type': 'production',\n",
       "   'production volume': 16284287723.9882,\n",
       "   'product': 'electricity, high voltage, renewable energy products',\n",
       "   'name': 'market for electricity, high voltage, renewable energy products',\n",
       "   'unit': 'kilowatt hour',\n",
       "   'location': 'CH',\n",
       "   'database': 'ei 3.8 cutoff',\n",
       "   'input': ('TeamPV4', '138a5ce6234d92a9746e884ca4ee4b2e'),\n",
       "   'output': ('TeamPV4', '138a5ce6234d92a9746e884ca4ee4b2e')},\n",
       "  {'uncertainty type': 0,\n",
       "   'amount': 6.58209848825026e-09,\n",
       "   'type': 'technosphere',\n",
       "   'production volume': 0.0,\n",
       "   'product': 'transmission network, electricity, high voltage',\n",
       "   'name': 'transmission network construction, electricity, high voltage',\n",
       "   'unit': 'kilometer',\n",
       "   'location': 'CH',\n",
       "   'database': 'ei 3.8 cutoff',\n",
       "   'input': ('TeamPV4', '9d5096f53ec68801dca2368d78ee69eb'),\n",
       "   'output': ('TeamPV4', '138a5ce6234d92a9746e884ca4ee4b2e')},\n",
       "  {'uncertainty type': 0,\n",
       "   'loc': 0.00325427014377982,\n",
       "   'amount': 0.00325427014377982,\n",
       "   'type': 'technosphere',\n",
       "   'production volume': 51547445.2099009,\n",
       "   'product': 'electricity, high voltage, renewable energy products',\n",
       "   'name': 'electricity production, wind, >3MW turbine, onshore, renewable energy products',\n",
       "   'unit': 'kilowatt hour',\n",
       "   'location': 'CH',\n",
       "   'database': 'ei 3.8 cutoff',\n",
       "   'input': ('TeamPV4', '195b8729246cfa84e9b0f21968cd8e18'),\n",
       "   'output': ('TeamPV4', '138a5ce6234d92a9746e884ca4ee4b2e')},\n",
       "  {'uncertainty type': 0,\n",
       "   'loc': 0.477767697883143,\n",
       "   'amount': 0.477767697883143,\n",
       "   'type': 'technosphere',\n",
       "   'production volume': 7567811872.27649,\n",
       "   'product': 'electricity, high voltage, renewable energy products',\n",
       "   'name': 'electricity production, hydro, reservoir, alpine region, renewable energy products',\n",
       "   'unit': 'kilowatt hour',\n",
       "   'location': 'CH',\n",
       "   'database': 'ei 3.8 cutoff',\n",
       "   'input': ('TeamPV4', 'f3ae7bec2ff989a0b1382792722b494f'),\n",
       "   'output': ('TeamPV4', '138a5ce6234d92a9746e884ca4ee4b2e')},\n",
       "  {'uncertainty type': 0,\n",
       "   'loc': 0.418314811631272,\n",
       "   'amount': 0.418314811631272,\n",
       "   'type': 'technosphere',\n",
       "   'production volume': 6626081695.85074,\n",
       "   'product': 'electricity, high voltage, renewable energy products',\n",
       "   'name': 'electricity production, hydro, run-of-river, renewable energy products',\n",
       "   'unit': 'kilowatt hour',\n",
       "   'location': 'CH',\n",
       "   'database': 'ei 3.8 cutoff',\n",
       "   'input': ('TeamPV4', '1b5586e32b33ee7860b1b9da477d3146'),\n",
       "   'output': ('TeamPV4', '138a5ce6234d92a9746e884ca4ee4b2e')},\n",
       "  {'uncertainty type': 0,\n",
       "   'loc': 0.00862068435413516,\n",
       "   'amount': 0.00862068435413516,\n",
       "   'type': 'technosphere',\n",
       "   'production volume': 136551126.606992,\n",
       "   'product': 'electricity, high voltage, renewable energy products',\n",
       "   'name': 'electricity production, wind, 1-3MW turbine, onshore, renewable energy products',\n",
       "   'unit': 'kilowatt hour',\n",
       "   'location': 'CH',\n",
       "   'database': 'ei 3.8 cutoff',\n",
       "   'input': ('TeamPV4', '73a76a4051dafacd654aa62c91277024'),\n",
       "   'output': ('TeamPV4', '138a5ce6234d92a9746e884ca4ee4b2e')},\n",
       "  {'uncertainty type': 0,\n",
       "   'loc': 0.00141612468931864,\n",
       "   'amount': 0.00141612468931864,\n",
       "   'type': 'technosphere',\n",
       "   'production volume': 22431330.7156037,\n",
       "   'product': 'electricity, high voltage, renewable energy products',\n",
       "   'name': 'electricity production, wind, <1MW turbine, onshore, renewable energy products',\n",
       "   'unit': 'kilowatt hour',\n",
       "   'location': 'CH',\n",
       "   'database': 'ei 3.8 cutoff',\n",
       "   'input': ('TeamPV4', '3db2fb7af5fde16e9d8f2648c12104d7'),\n",
       "   'output': ('TeamPV4', '138a5ce6234d92a9746e884ca4ee4b2e')},\n",
       "  {'uncertainty type': 0,\n",
       "   'loc': 0.0124672349149832,\n",
       "   'amount': 0.0124672349149832,\n",
       "   'type': 'technosphere',\n",
       "   'production volume': 197480258.339161,\n",
       "   'product': 'electricity, high voltage, renewable energy products',\n",
       "   'name': 'electricity, high voltage, hydro, reservoir, import from France, renewable energy products',\n",
       "   'unit': 'kilowatt hour',\n",
       "   'location': 'CH',\n",
       "   'database': 'ei 3.8 cutoff',\n",
       "   'input': ('TeamPV4', '6b4c1d98b332859e8e555a7e52d2b75d'),\n",
       "   'output': ('TeamPV4', '138a5ce6234d92a9746e884ca4ee4b2e')},\n",
       "  {'uncertainty type': 0,\n",
       "   'loc': 0.0654451912818398,\n",
       "   'amount': 0.0654451912818398,\n",
       "   'type': 'technosphere',\n",
       "   'production volume': 1036647931.11914,\n",
       "   'product': 'electricity, high voltage, renewable energy products',\n",
       "   'name': 'electricity, high voltage, hydro, run-of-river, import from France, renewable energy products',\n",
       "   'unit': 'kilowatt hour',\n",
       "   'location': 'CH',\n",
       "   'database': 'ei 3.8 cutoff',\n",
       "   'input': ('TeamPV4', 'ac234536c8b235b71e4009db6d9284ff'),\n",
       "   'output': ('TeamPV4', '138a5ce6234d92a9746e884ca4ee4b2e')},\n",
       "  {'uncertainty type': 0,\n",
       "   'loc': 0.00311766055009184,\n",
       "   'amount': 0.00311766055009184,\n",
       "   'type': 'technosphere',\n",
       "   'production volume': 49383557.3841659,\n",
       "   'product': 'electricity, high voltage, renewable energy products',\n",
       "   'name': 'electricity, high voltage, wind power, import from Germany, renewable energy products',\n",
       "   'unit': 'kilowatt hour',\n",
       "   'location': 'CH',\n",
       "   'database': 'ei 3.8 cutoff',\n",
       "   'input': ('TeamPV4', 'a718cd6652ba4391d81273ea03d35216'),\n",
       "   'output': ('TeamPV4', '138a5ce6234d92a9746e884ca4ee4b2e')},\n",
       "  {'uncertainty type': 0,\n",
       "   'loc': 0.00798651360259453,\n",
       "   'amount': 0.00798651360259453,\n",
       "   'type': 'technosphere',\n",
       "   'production volume': 126505899.682225,\n",
       "   'product': 'electricity, high voltage, renewable energy products',\n",
       "   'name': 'heat and power co-generation, biogas, gas engine, renewable energy products',\n",
       "   'unit': 'kilowatt hour',\n",
       "   'location': 'CH',\n",
       "   'database': 'ei 3.8 cutoff',\n",
       "   'input': ('TeamPV4', '367b643408c10f5bb12514ad9b7eb535'),\n",
       "   'output': ('TeamPV4', '138a5ce6234d92a9746e884ca4ee4b2e')},\n",
       "  {'uncertainty type': 0,\n",
       "   'loc': 0.00160981094884118,\n",
       "   'amount': 0.00160981094884118,\n",
       "   'type': 'technosphere',\n",
       "   'production volume': 25499309.5279136,\n",
       "   'product': 'electricity, high voltage, renewable energy products',\n",
       "   'name': 'heat and power co-generation, wood chips, 6667 kW, state-of-the-art 2014, renewable energy products',\n",
       "   'unit': 'kilowatt hour',\n",
       "   'location': 'CH',\n",
       "   'database': 'ei 3.8 cutoff',\n",
       "   'input': ('TeamPV4', 'ebefb0b602edbd61f2e627a3a6a2039a'),\n",
       "   'output': ('TeamPV4', '138a5ce6234d92a9746e884ca4ee4b2e')},\n",
       "  {'uncertainty type': 0,\n",
       "   'loc': 0.0280523338665188,\n",
       "   'amount': 0.0280523338665188,\n",
       "   'type': 'technosphere',\n",
       "   'production volume': 444347297.275903,\n",
       "   'product': 'electricity, high voltage, renewable energy products',\n",
       "   'name': 'market for electricity, high voltage, renewable energy products',\n",
       "   'unit': 'kilowatt hour',\n",
       "   'location': 'CH',\n",
       "   'database': 'ei 3.8 cutoff',\n",
       "   'input': ('TeamPV4', '138a5ce6234d92a9746e884ca4ee4b2e'),\n",
       "   'output': ('TeamPV4', '138a5ce6234d92a9746e884ca4ee4b2e')},\n",
       "  {'uncertainty type': 0,\n",
       "   'amount': 4.15772755242894e-06,\n",
       "   'type': 'biosphere',\n",
       "   'production volume': 0.0,\n",
       "   'input': ('biosphere3', '2058d91e-bb9f-4fce-8e53-131825b14a23'),\n",
       "   'name': 'Ozone',\n",
       "   'unit': 'kilogram',\n",
       "   'database': 'biosphere3',\n",
       "   'categories': ('air',),\n",
       "   'output': ('TeamPV4', '138a5ce6234d92a9746e884ca4ee4b2e')},\n",
       "  {'uncertainty type': 0,\n",
       "   'amount': 5e-06,\n",
       "   'type': 'biosphere',\n",
       "   'production volume': 0.0,\n",
       "   'input': ('biosphere3', '20185046-64bb-4c09-a8e7-e8a9e144ca98'),\n",
       "   'name': 'Dinitrogen monoxide',\n",
       "   'unit': 'kilogram',\n",
       "   'database': 'biosphere3',\n",
       "   'categories': ('air',),\n",
       "   'output': ('TeamPV4', '138a5ce6234d92a9746e884ca4ee4b2e')}],\n",
       " 'parameters': {'electricity_transmission_losses': {'amount': 0.39},\n",
       "  'electricity_losses_total': {'amount': 0.07}},\n",
       " 'parameters full': [{'description': 'electricity transmission losses',\n",
       "   'id': 'de08658d-936a-46b6-b8e4-739e9b3f2399',\n",
       "   'unit': 'dimensionless',\n",
       "   'comment': 'Losses of electricity during transmission in the high voltage grid. \\n\\nThe value for losses on the high voltage level additionally contains the losses for transformation within this level!\\n\\nThe Swiss shares of the electricity demand and losses are listed in (Itten&Frischknecht 2012, Tab. 4.1). Swiss data are based on Swiss electricity statistics 2009 (BFE 2010) and personal communication (ewz 2011)\\n\\nTab. 4.1:\\nTotal losses = 100%\\n\\nTotal losses high voltage: 39%, out of it 6% transformation and 33% transmission\\nTotal losses medium voltage: 13%, out of it 8% transformation and 5% transmission\\nTotal losses low voltage: 48%, out of it 24% transformation and 24% transmission\\n\\nItten R. and Frischknecht R. (2012) Life Cycle Inventories of Electricity Mixes and Grid. ESU-services Ltd., Uster, Switzerland.\\n\\nBFE (2010) Schweizerische Elektrizitätsstatistik 2009. Bundesamt für Energie, Bern, CH, retrieved from: http://www.bfe.admin.ch/themen/00526/00541/00542/00630/index.html?lang=de&dossier_id=04840\\n\\nGerhard Emch, EWZ, personal communication on 22.06.2011',\n",
       "   'amount': 0.39,\n",
       "   'pedigree': {'reliability': 4,\n",
       "    'completeness': 3,\n",
       "    'temporal correlation': 1,\n",
       "    'geographical correlation': 1,\n",
       "    'further technological correlation': 5},\n",
       "   'uncertainty type': 2,\n",
       "   'loc': -0.9416,\n",
       "   'scale': 0.35944401511222857,\n",
       "   'scale without pedigree': 0.02449489742783178,\n",
       "   'name': 'electricity_transmission_losses'},\n",
       "  {'description': 'total electricity losses within the country',\n",
       "   'id': 'a5b1977a-ec47-4123-beac-51e2c634cfa3',\n",
       "   'unit': 'dimensionless',\n",
       "   'comment': 'Total losses of electricity from the net electricity fed into the grid until arriving at the end user (transmission and transformation losses).\\nThe total share of electricity losses on the electricity delivered in this country was determined using the total amount of losses given in the statistics of the IEA (IEA 2010, 2011).\\n\\nIEA (2010) Energy Statistics for different countries. lectricity/Heat Data. Retrieved June 2011 from: http://www.iea.org/stats/prodresult.asp?PRODUCT=Electricity/Heat\\n\\nIEA (2011) OECD - Electricity and heat generation. International Energy Agency (IEA) Electricity information statistics (database), retrieved from: http://www.oecd-ilibrary.org/energy/.',\n",
       "   'amount': 0.07,\n",
       "   'pedigree': {'reliability': 2,\n",
       "    'completeness': 1,\n",
       "    'temporal correlation': 1,\n",
       "    'geographical correlation': 1,\n",
       "    'further technological correlation': 2},\n",
       "   'uncertainty type': 2,\n",
       "   'loc': -2.659,\n",
       "   'scale': 0.042426406871192854,\n",
       "   'scale without pedigree': 0.02449489742783178,\n",
       "   'name': 'electricity_losses_total'}]}"
      ]
     },
     "execution_count": 121,
     "metadata": {},
     "output_type": "execute_result"
    }
   ],
   "source": [
    "temp_db = ndb.scenarios[0][\"database\"]\n",
    "\n",
    "actList = [X for X in temp_db if 'market for electricity' in X['name']                # Iterates trough activities X in database db and adds them to list 'act_list' if they contain 'text1' in 'name',\n",
    "                        and 'CH' in X['location']                # 'text2' in 'name',\n",
    "                        and 'high voltage' in X['name']]            # but not 'text3' in 'name',\n",
    "actList[0]"
   ]
  },
  {
   "cell_type": "code",
   "execution_count": 101,
   "id": "942710f3-4354-4faa-9950-bfef27b4fa71",
   "metadata": {},
   "outputs": [
    {
     "data": {
      "text/plain": [
       "Databases dictionary with 6 object(s):\n",
       "\tTeamPV\n",
       "\tTeamPV2\n",
       "\tTeamPV3\n",
       "\tTeamPV4\n",
       "\tbiosphere3\n",
       "\tei 3.8 cutoff"
      ]
     },
     "execution_count": 101,
     "metadata": {},
     "output_type": "execute_result"
    }
   ],
   "source": [
    "from brightway2 import *\n",
    "databases"
   ]
  },
  {
   "cell_type": "code",
   "execution_count": 102,
   "id": "c71a9cd5-e547-409e-868f-03cf6fe09cbf",
   "metadata": {},
   "outputs": [
    {
     "name": "stdout",
     "output_type": "stream",
     "text": [
      "Write new database(s) to Brightway2.\n",
      "Prepare database 1.\n",
      "- check for duplicates...\n",
      "- check for values format...\n",
      "- relinking exchanges...\n",
      "Done!\n",
      "20899 datasets\n",
      "649189 exchanges\n",
      "0 unlinked exchanges\n",
      "  \n",
      "Warning: No valid output stream.\n",
      "Title: Writing activities to SQLite3 database:\n",
      "  Started: 10/27/2022 15:19:44\n",
      "  Finished: 10/27/2022 15:20:05\n",
      "  Total time elapsed: 00:00:21\n",
      "  CPU %: 93.90\n",
      "  Memory %: 4.64\n",
      "Created database: TeamPV5\n"
     ]
    }
   ],
   "source": [
    "ndb.write_db_to_brightway(name=\"TeamPV5\")"
   ]
  },
  {
   "cell_type": "code",
   "execution_count": 103,
   "id": "29f72e40-6d76-4286-a865-ceee9312b0fe",
   "metadata": {},
   "outputs": [],
   "source": [
    "\n",
    "test=Database(\"TeamPV5\")"
   ]
  },
  {
   "cell_type": "code",
   "execution_count": 104,
   "id": "0971aa49-17d6-49a4-9186-2602af5b5550",
   "metadata": {},
   "outputs": [
    {
     "data": {
      "text/plain": [
       "20899"
      ]
     },
     "execution_count": 104,
     "metadata": {},
     "output_type": "execute_result"
    }
   ],
   "source": [
    "len(test)\n"
   ]
  },
  {
   "cell_type": "code",
   "execution_count": 121,
   "id": "bd57909a-0728-4a89-a96f-ff83caaf464b",
   "metadata": {},
   "outputs": [],
   "source": [
    "actList = [X for X in test if 'market for electricity' in X['name']                # Iterates trough activities X in database db and adds them to list 'act_list' if they contain 'text1' in 'name',\n",
    "                        and 'CH' in X['location']                # 'text2' in 'name',\n",
    "                        and 'low voltage' in X['name']]            # but not 'text3' in 'name',"
   ]
  },
  {
   "cell_type": "code",
   "execution_count": 122,
   "id": "c069d979-cef6-4620-8e8c-18ecd60f52f7",
   "metadata": {},
   "outputs": [
    {
     "data": {
      "text/plain": [
       "['market for electricity, low voltage, EP2050' (kilowatt hour, CH, None),\n",
       " 'market for electricity, low voltage, renewable energy products' (kilowatt hour, CH, None),\n",
       " 'market for electricity, low voltage' (kilowatt hour, CH, None)]"
      ]
     },
     "execution_count": 122,
     "metadata": {},
     "output_type": "execute_result"
    }
   ],
   "source": [
    "actList"
   ]
  },
  {
   "cell_type": "code",
   "execution_count": 113,
   "id": "cdc4f6fc-96a6-4801-9a16-5b9f0841a022",
   "metadata": {},
   "outputs": [],
   "source": [
    "EP2050=actList[2]"
   ]
  },
  {
   "cell_type": "code",
   "execution_count": 114,
   "id": "0026e384-b94a-4614-a87b-a18598a6a1d2",
   "metadata": {},
   "outputs": [
    {
     "data": {
      "text/plain": [
       "[Exchange: 0.026752645518952938 kilowatt hour 'monofacial_tandem_electricity' (kilowatt hour, RER, None) to 'market for electricity, low voltage, EP2050' (kilowatt hour, CH, None)>,\n",
       " Exchange: 1.0009965836691253 kilowatt hour 'electricity production, photovoltaic, residential' (kilowatt hour, CH, None) to 'market for electricity, low voltage, EP2050' (kilowatt hour, CH, None)>,\n",
       " Exchange: 3.0729701952723535e-09 kilogram 'market for sulfur hexafluoride, liquid' (kilogram, RER, None) to 'market for electricity, low voltage, EP2050' (kilowatt hour, CH, None)>,\n",
       " Exchange: 8.982528263103803e-08 kilometer 'distribution network construction, electricity, low voltage' (kilometer, CH, None) to 'market for electricity, low voltage, EP2050' (kilowatt hour, CH, None)>]"
      ]
     },
     "execution_count": 114,
     "metadata": {},
     "output_type": "execute_result"
    }
   ],
   "source": [
    "excList = [exc for exc in EP2050.technosphere()]\n",
    "excList"
   ]
  },
  {
   "cell_type": "code",
   "execution_count": 37,
   "id": "03fd42b9-8203-4be6-9361-9deebba1b350",
   "metadata": {},
   "outputs": [],
   "source": []
  },
  {
   "cell_type": "code",
   "execution_count": null,
   "id": "14cc94d1-bcae-46b9-a93b-8ca92f023abd",
   "metadata": {},
   "outputs": [],
   "source": []
  }
 ],
 "metadata": {
  "kernelspec": {
   "display_name": "Python [conda env:bw]",
   "language": "python",
   "name": "conda-env-bw-py"
  },
  "language_info": {
   "codemirror_mode": {
    "name": "ipython",
    "version": 3
   },
   "file_extension": ".py",
   "mimetype": "text/x-python",
   "name": "python",
   "nbconvert_exporter": "python",
   "pygments_lexer": "ipython3",
   "version": "3.10.6"
  }
 },
 "nbformat": 4,
 "nbformat_minor": 5
}
